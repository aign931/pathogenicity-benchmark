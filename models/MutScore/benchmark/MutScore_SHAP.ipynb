{
 "cells": [
  {
   "cell_type": "code",
   "execution_count": 1,
   "id": "43a1f2a3",
   "metadata": {},
   "outputs": [
    {
     "name": "stderr",
     "output_type": "stream",
     "text": [
      "/mnt/d/thesis/venv/lib/python3.12/site-packages/tqdm/auto.py:21: TqdmWarning: IProgress not found. Please update jupyter and ipywidgets. See https://ipywidgets.readthedocs.io/en/stable/user_install.html\n",
      "  from .autonotebook import tqdm as notebook_tqdm\n"
     ]
    }
   ],
   "source": [
    "import pandas as pd\n",
    "import numpy as np\n",
    "import shap\n",
    "import joblib\n",
    "import matplotlib.pyplot as plt\n",
    "from sklearn.ensemble import RandomForestClassifier"
   ]
  },
  {
   "cell_type": "code",
   "execution_count": 2,
   "id": "7e1f9ac8",
   "metadata": {},
   "outputs": [
    {
     "name": "stdout",
     "output_type": "stream",
     "text": [
      "Model has been saved to：models/rf_final_model.pkl\n"
     ]
    }
   ],
   "source": [
    "# CONFIG\n",
    "TRAINING_DATA_PATH=\"data/training_set.csv\"\n",
    "TEST_DATA_PATH=\"data/test_set.csv\"\n",
    "OUTPUT_MODEL_PATH=\"models/rf_final_model.pkl\"\n",
    "\n",
    "# Load data\n",
    "train_df = pd.read_csv(TRAINING_DATA_PATH)\n",
    "\n",
    "# Define features\n",
    "feature_cols = [\n",
    "    'AllofUs_ALL_AF', 'AlphaMissense_score', 'BayesDel_addAF_score', 'BayesDel_noAF_score',\n",
    "    'CADD_raw', 'ClinPred_score', 'DANN_score', 'DEOGEN2_score', 'ESM1b_score',\n",
    "    'Eigen-PC-raw_coding', 'Eigen-raw_coding', 'GERP++_RS', 'GERP_91_mammals',\n",
    "    'M-CAP_score', 'MPC_score', 'MVP_score', 'MetaLR_score', 'MetaRNN_score',\n",
    "    'MetaSVM_score', 'MutFormer_score', 'MutationAssessor_score', 'MutationTaster_score',\n",
    "    'PROVEAN_score', 'Polyphen2_HDIV_score', 'Polyphen2_HVAR_score', 'PrimateAI_score',\n",
    "    'REVEL_score', 'RegeneronME_ALL_AF', 'SIFT4G_score', 'SIFT_score', 'VEST4_score',\n",
    "    'bStatistic', 'dbNSFP_POPMAX_AF', 'fathmm-XF_coding_score', 'gMVP_score',\n",
    "    'gnomAD4.1_joint_AF', 'phastCons100way_vertebrate', 'phastCons17way_primate',\n",
    "    'phastCons470way_mammalian', 'phyloP100way_vertebrate',\n",
    "    'phyloP17way_primate', 'phyloP470way_mammalian'\n",
    "]\n",
    "\n",
    "# Extract input features and binary class labels\n",
    "X_train = train_df[feature_cols].copy()\n",
    "y_train = train_df[\"label\"].copy()\n",
    "\n",
    "# Train the RF model(same hps as in R)\n",
    "model = RandomForestClassifier(n_estimators=1000, random_state=2005)\n",
    "model.fit(X_train, y_train)\n",
    "\n",
    "# Save the model\n",
    "joblib.dump(model, OUTPUT_MODEL_PATH)\n",
    "print(f\"Model has been saved to：{OUTPUT_MODEL_PATH}\")\n"
   ]
  },
  {
   "cell_type": "code",
   "execution_count": 3,
   "id": "a96c8aa3",
   "metadata": {},
   "outputs": [
    {
     "name": "stdout",
     "output_type": "stream",
     "text": [
      "SHAP beeswarm plot saved\n",
      "SHAP bar chart saved\n"
     ]
    }
   ],
   "source": [
    "# Load test data for SHAP analysis\n",
    "test_df = pd.read_csv(TEST_DATA_PATH)\n",
    "X_test = test_df[feature_cols].copy()\n",
    "\n",
    "# Create SHAP explainer and calculate SHAP value\n",
    "explainer = shap.TreeExplainer(model)\n",
    "shap_values = explainer.shap_values(X_test)\n",
    "shap_values_flat = shap_values[:, :, 1]\n",
    "\n",
    "# SHAP beeswarm plot\n",
    "shap.summary_plot(\n",
    "    shap_values_flat, \n",
    "    features=X_test, \n",
    "    feature_names=feature_cols,\n",
    "    max_display=43,\n",
    "    show=False\n",
    ")\n",
    "plt.savefig('plots/shap_beeswarm_testset.png', dpi=300, bbox_inches='tight')\n",
    "plt.close()\n",
    "print(\"SHAP beeswarm plot saved\")\n",
    "\n",
    "# SHAP bar chart of mean absolute values\n",
    "mean_shap = np.abs(shap_values_flat).mean(axis=0)\n",
    "sorted_idx = np.argsort(mean_shap)\n",
    "sorted_shap_values = mean_shap[sorted_idx]\n",
    "sorted_feature_names = np.array(feature_cols)[sorted_idx]\n",
    "\n",
    "# Define correlated groups\n",
    "feature_groups = {\n",
    "    \"Group_1\": [\n",
    "        \"AlphaMissense_score\", \"BayesDel_addAF_score\", \"BayesDel_noAF_score\", \"CADD_raw\", \"ClinPred_score\",\n",
    "        \"Eigen-PC-raw_coding\", \"Eigen-raw_coding\", \"GERP++_RS\", \"MetaLR_score\", \"MetaRNN_score\",\n",
    "        \"MetaSVM_score\", \"MutScore_score\", \"MutationTaster_score\", \"Polyphen2_HDIV_score\",\n",
    "        \"Polyphen2_HVAR_score\", \"PrimateAI_score\", \"REVEL_score\", \"VEST4_score\",\n",
    "        \"fathmm-XF_coding_score\", \"gMVP_score\", \"phastCons100way_vertebrate\",\n",
    "        \"phyloP100way_vertebrate\", \"phyloP470way_mammalian\"\n",
    "    ],\n",
    "    \"Group_2\": [\"RegeneronME_ALL_AF\", \"gnomAD4.1_joint_AF\"],\n",
    "    \"Group_3\": [\"SIFT4G_score\", \"SIFT_score\"]\n",
    "}\n",
    "\n",
    "# Define group colors\n",
    "group_colors = {\n",
    "    \"Group_1\": \"tomato\",\n",
    "    \"Group_2\": \"mediumseagreen\",\n",
    "    \"Group_3\": \"royalblue\",\n",
    "    \"Other\": \"lightgrey\"\n",
    "}\n",
    "\n",
    "# Map features to colors\n",
    "feature_to_color = {}\n",
    "for group, features in feature_groups.items():\n",
    "    for feat in features:\n",
    "        feature_to_color[feat] = group_colors[group]\n",
    "\n",
    "bar_colors = [feature_to_color.get(f, group_colors[\"Other\"]) for f in sorted_feature_names]\n",
    "\n",
    "plt.figure(figsize=(8, 18))\n",
    "plt.barh(sorted_feature_names, sorted_shap_values, color=bar_colors)\n",
    "plt.xlabel('Mean(|SHAP value|)', fontsize=12)\n",
    "plt.title('Global Feature Importance (SHAP, Test Set)', fontsize=14)\n",
    "plt.grid(True, axis='x', linestyle='--', alpha=0.6)\n",
    "plt.tight_layout()\n",
    "plt.savefig('plots/shap_bar_testset_feature_groups.png', dpi=300, bbox_inches='tight')\n",
    "plt.close()\n",
    "print(\"SHAP bar chart saved\")"
   ]
  },
  {
   "cell_type": "code",
   "execution_count": 4,
   "id": "2aebb6d8",
   "metadata": {},
   "outputs": [
    {
     "name": "stdout",
     "output_type": "stream",
     "text": [
      "SHAP values matrix saved.\n"
     ]
    }
   ],
   "source": [
    "# Save SHAP value matrix\n",
    "shap_df = pd.DataFrame(shap_values_flat, columns=feature_cols)\n",
    "shap_df.to_csv(f\"data/shap_values_testset.csv\", index=False)\n",
    "print(\"SHAP values matrix saved.\")"
   ]
  },
  {
   "cell_type": "markdown",
   "id": "408cae0e",
   "metadata": {},
   "source": [
    "### Compare SHAP & Gini"
   ]
  },
  {
   "cell_type": "code",
   "execution_count": 5,
   "id": "62b117cd",
   "metadata": {},
   "outputs": [
    {
     "name": "stdout",
     "output_type": "stream",
     "text": [
      "SHAP vs Gini bar chart saved.\n"
     ]
    }
   ],
   "source": [
    "# Load SHAP data\n",
    "shap_df=pd.read_csv(\"data/shap_values_testset.csv\")\n",
    "shap_mean = shap_df.abs().mean().rename(\"mean_abs_shap\")\n",
    "\n",
    "# Load Gini\n",
    "gini_df = pd.read_csv(\"data/rf_feature_importance.txt\", sep=\"\\t\", index_col=0)\n",
    "gini_col_name = \"MeanDecreaseGini\" if \"MeanDecreaseGini\" in gini_df.columns else gini_df.columns[0]\n",
    "gini_importance = gini_df[gini_col_name].rename(\"gini\")\n",
    "\n",
    "# Merge\n",
    "comparison_df = pd.concat([shap_mean, gini_importance], axis=1, join=\"inner\")\n",
    "\n",
    "# Normalization\n",
    "comparison_df[\"shap_norm\"] = comparison_df[\"mean_abs_shap\"] / comparison_df[\"mean_abs_shap\"].max()\n",
    "comparison_df[\"gini_norm\"] = comparison_df[\"gini\"] / comparison_df[\"gini\"].max()\n",
    "\n",
    "# Sort\n",
    "comparison_df_sorted = comparison_df.sort_values(\"shap_norm\", ascending=True)\n",
    "\n",
    "# Plot\n",
    "plt.figure(figsize=(10, 16))\n",
    "bar_width = 0.4\n",
    "indices = np.arange(len(comparison_df_sorted))\n",
    "\n",
    "plt.barh(indices, comparison_df_sorted[\"shap_norm\"], height=bar_width, label=\"SHAP\", color=\"dodgerblue\")\n",
    "plt.barh(indices + bar_width, comparison_df_sorted[\"gini_norm\"], height=bar_width, label=\"GiniIndex\", color=\"orange\")\n",
    "\n",
    "plt.yticks(indices + bar_width / 2, comparison_df_sorted.index)\n",
    "plt.xlabel(\"Normalized Feature Importance\", fontsize=12)\n",
    "plt.title(\"SHAP vs GiniIndex Feature Importance\", fontsize=14)\n",
    "plt.legend()\n",
    "plt.grid(axis='x', linestyle='--', alpha=0.5)\n",
    "plt.tight_layout()\n",
    "plt.savefig(\"plots/shap_vs_gini_comparison.png\", dpi=300, bbox_inches='tight')\n",
    "plt.close()\n",
    "print(f\"SHAP vs Gini bar chart saved.\")"
   ]
  }
 ],
 "metadata": {
  "kernelspec": {
   "display_name": "venv",
   "language": "python",
   "name": "python3"
  },
  "language_info": {
   "codemirror_mode": {
    "name": "ipython",
    "version": 3
   },
   "file_extension": ".py",
   "mimetype": "text/x-python",
   "name": "python",
   "nbconvert_exporter": "python",
   "pygments_lexer": "ipython3",
   "version": "3.12.3"
  }
 },
 "nbformat": 4,
 "nbformat_minor": 5
}
