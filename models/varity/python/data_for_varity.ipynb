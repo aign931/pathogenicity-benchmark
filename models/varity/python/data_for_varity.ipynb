{
 "cells": [
  {
   "cell_type": "markdown",
   "id": "983c09da",
   "metadata": {},
   "source": [
    "## Data preparation"
   ]
  },
  {
   "cell_type": "markdown",
   "id": "fe301b19",
   "metadata": {},
   "source": [
    "### Extract features for training"
   ]
  },
  {
   "cell_type": "code",
   "execution_count": null,
   "id": "e5302276",
   "metadata": {},
   "outputs": [],
   "source": [
    "import pandas as pd\n",
    "\n",
    "df = pd.read_csv('../varity_project/data/benchmark_dataset.csv')\n",
    "\n",
    "print(df.columns.tolist())"
   ]
  },
  {
   "cell_type": "code",
   "execution_count": null,
   "id": "27cafa99",
   "metadata": {},
   "outputs": [],
   "source": [
    "df_original = pd.read_csv('../varity_project/data/varity_r_input_data.csv')\n",
    "\n",
    "print(df_original.columns.tolist())"
   ]
  },
  {
   "cell_type": "code",
   "execution_count": null,
   "id": "31374947",
   "metadata": {},
   "outputs": [],
   "source": [
    "import pandas as pd\n",
    "\n",
    "df_new = pd.read_csv('../varity_project/data/test_set.csv')\n",
    "\n",
    "#  chr / nt_pos\n",
    "df_new[[\"chr\",\"nt_pos\"]] = df_new[\"Location\"].str.split(\":\", expand=True)\n",
    "df_new[\"nt_pos\"] = df_new[\"nt_pos\"].astype(int)\n",
    "\n",
    "# Alt allele\n",
    "df_new.rename(columns={\"Allele\":\"nt_alt\"}, inplace=True)\n",
    "\n",
    "# Ref allele(place holder)\n",
    "df_new[\"nt_ref\"] = \".\"\n",
    "\n",
    "# Amino_acids to aa_ref / aa_alt\n",
    "df_new[[\"aa_ref\",\"aa_alt\"]] = df_new[\"Amino_acids\"].str.split(\"/\", expand=True)\n",
    "\n",
    "# Protein position\n",
    "df_new.rename(columns={\"Protein_position\":\"aa_pos\"}, inplace=True)\n",
    "\n",
    "# p_vid\n",
    "df_new[\"p_vid\"] = df_new[\"Uploaded_variation\"] \n",
    "\n",
    "# Save\n",
    "df_new.to_csv('../varity_project/data/test_set_prep.csv', index=False)\n"
   ]
  },
  {
   "cell_type": "markdown",
   "id": "95f79a68",
   "metadata": {},
   "source": [
    "### Add columns according to user guide"
   ]
  },
  {
   "cell_type": "code",
   "execution_count": null,
   "id": "a335e9b9",
   "metadata": {},
   "outputs": [],
   "source": [
    "import pandas as pd\n",
    "\n",
    "df = pd.read_csv('../varity_project/data/training_set.csv')\n",
    "\n",
    "# Add new columns\n",
    "df['extra_data'] = 0\n",
    "df['set_name']   = 'benchmark'\n",
    "\n",
    "df.to_csv('../varity_project/data/training_set.csv', index=False)\n"
   ]
  },
  {
   "cell_type": "code",
   "execution_count": null,
   "id": "d72b8499",
   "metadata": {},
   "outputs": [],
   "source": [
    "import pandas as pd\n",
    "\n",
    "df = pd.read_csv('../varity_project/data/test_set_prep.csv')\n",
    "\n",
    "# Add new columns\n",
    "df['extra_data'] = 0\n",
    "df['set_name']   = 'benchmark'\n",
    "\n",
    "df.to_csv('../varity_project/data/test_set_prep.csv', index=False)\n"
   ]
  },
  {
   "cell_type": "markdown",
   "id": "fbd50868",
   "metadata": {},
   "source": [
    "## SHAP analysis"
   ]
  },
  {
   "cell_type": "code",
   "execution_count": 1,
   "id": "4589f628",
   "metadata": {},
   "outputs": [
    {
     "name": "stderr",
     "output_type": "stream",
     "text": [
      "/home/ning/miniconda3/envs/varity_env/lib/python3.7/site-packages/sklearn/utils/validation.py:37: DeprecationWarning: distutils Version classes are deprecated. Use packaging.version instead.\n",
      "  LARGE_SPARSE_SUPPORTED = LooseVersion(scipy_version) >= '0.14.0'\n",
      "/home/ning/miniconda3/envs/varity_env/lib/python3.7/site-packages/tqdm/auto.py:21: TqdmWarning: IProgress not found. Please update jupyter and ipywidgets. See https://ipywidgets.readthedocs.io/en/stable/user_install.html\n",
      "  from .autonotebook import tqdm as notebook_tqdm\n"
     ]
    }
   ],
   "source": [
    "import shap\n",
    "import xgboost as xgb\n",
    "from xgboost import XGBClassifier\n",
    "import numpy as np\n",
    "import pandas as pd\n",
    "import pickle\n",
    "import matplotlib.pyplot as plt\n",
    "import pandas as pd"
   ]
  },
  {
   "cell_type": "code",
   "execution_count": 2,
   "id": "7232c90f",
   "metadata": {},
   "outputs": [],
   "source": [
    "# Path\n",
    "model_path = '../varity_project/output/model/benchmark_dataset_final_MYVARITY_R.model'\n",
    "data_path = '../varity_project/data/test_set_prep.csv'\n",
    "\n",
    "# Load the model\n",
    "model = XGBClassifier()\n",
    "model.load_model(model_path)\n",
    "\n",
    "# Load data\n",
    "df = pd.read_csv(data_path)\n",
    "\n",
    "# Features used for training\n",
    "feature_cols = [\n",
    "    'AllofUs_ALL_AF', 'AlphaMissense_score', 'BayesDel_addAF_score', 'BayesDel_noAF_score', 'CADD_raw', \n",
    "    'ClinPred_score', 'DANN_score', 'DEOGEN2_score', 'ESM1b_score', 'Eigen-PC-raw_coding', 'Eigen-raw_coding', \n",
    "    'GERP++_RS', 'GERP_91_mammals', 'M-CAP_score', 'MPC_score', 'MVP_score', 'MetaLR_score', 'MetaRNN_score', \n",
    "    'MetaSVM_score', 'MutFormer_score', 'MutScore_score', 'MutationAssessor_score', 'MutationTaster_score', \n",
    "    'PROVEAN_score', 'Polyphen2_HDIV_score', 'Polyphen2_HVAR_score', 'PrimateAI_score', 'REVEL_score', \n",
    "    'RegeneronME_ALL_AF', 'SIFT4G_score', 'SIFT_score', 'VEST4_score', 'bStatistic', 'dbNSFP_POPMAX_AF', \n",
    "    'fathmm-XF_coding_score', 'gMVP_score', 'gnomAD4.1_joint_AF', 'phastCons100way_vertebrate', 'phastCons17way_primate', \n",
    "    'phastCons470way_mammalian', 'phyloP100way_vertebrate', 'phyloP17way_primate', 'phyloP470way_mammalian'\n",
    "]\n",
    "\n",
    "X = df[feature_cols]\n"
   ]
  },
  {
   "cell_type": "code",
   "execution_count": 3,
   "id": "985604bf",
   "metadata": {},
   "outputs": [
    {
     "name": "stderr",
     "output_type": "stream",
     "text": [
      "Setting feature_perturbation = \"tree_path_dependent\" because no background data was given.\n"
     ]
    }
   ],
   "source": [
    "# SHAP value\n",
    "explainer = shap.TreeExplainer(model)\n",
    "shap_values = explainer.shap_values(X)"
   ]
  },
  {
   "cell_type": "code",
   "execution_count": 5,
   "id": "a4e49aec",
   "metadata": {},
   "outputs": [
    {
     "name": "stdout",
     "output_type": "stream",
     "text": [
      "SHAP beeswarm plot saved\n",
      "SHAP bar chart saved\n"
     ]
    }
   ],
   "source": [
    "# Visualization\n",
    "## Beeswarm\n",
    "shap.summary_plot(\n",
    "    shap_values, \n",
    "    X, \n",
    "    feature_names=feature_cols,\n",
    "    max_display=43,\n",
    "    show=False\n",
    ")\n",
    "plt.savefig(\"../varity_project/output/img/varity_shap_beeswarm.png\", dpi=300, bbox_inches='tight')\n",
    "plt.close()\n",
    "print(\"SHAP beeswarm plot saved\")\n",
    "\n",
    "## Bar chart\n",
    "mean_shap = np.abs(shap_values).mean(axis=0)\n",
    "sorted_idx = np.argsort(mean_shap)\n",
    "sorted_shap_values = mean_shap[sorted_idx]\n",
    "sorted_feature_names = np.array(feature_cols)[sorted_idx]\n",
    "\n",
    "# Define correlated groups\n",
    "feature_groups = {\n",
    "    \"Group_1\": [\n",
    "        \"AlphaMissense_score\", \"BayesDel_addAF_score\", \"BayesDel_noAF_score\", \"CADD_raw\", \"ClinPred_score\",\n",
    "        \"Eigen-PC-raw_coding\", \"Eigen-raw_coding\", \"GERP++_RS\", \"MetaLR_score\", \"MetaRNN_score\",\n",
    "        \"MetaSVM_score\", \"MutScore_score\", \"MutationTaster_score\", \"Polyphen2_HDIV_score\",\n",
    "        \"Polyphen2_HVAR_score\", \"PrimateAI_score\", \"REVEL_score\", \"VEST4_score\",\n",
    "        \"fathmm-XF_coding_score\", \"gMVP_score\", \"phastCons100way_vertebrate\",\n",
    "        \"phyloP100way_vertebrate\", \"phyloP470way_mammalian\"\n",
    "    ],\n",
    "    \"Group_2\": [\"RegeneronME_ALL_AF\", \"gnomAD4.1_joint_AF\"],\n",
    "    \"Group_3\": [\"SIFT4G_score\", \"SIFT_score\"]\n",
    "}\n",
    "\n",
    "# Define group colors\n",
    "group_colors = {\n",
    "    \"Group_1\": \"tomato\",\n",
    "    \"Group_2\": \"mediumseagreen\",\n",
    "    \"Group_3\": \"royalblue\",\n",
    "    \"Other\": \"lightgrey\"\n",
    "}\n",
    "\n",
    "# Map features to colors\n",
    "feature_to_color = {}\n",
    "for group, features in feature_groups.items():\n",
    "    for feat in features:\n",
    "        feature_to_color[feat] = group_colors[group]\n",
    "\n",
    "bar_colors = [feature_to_color.get(f, group_colors[\"Other\"]) for f in sorted_feature_names]\n",
    "\n",
    "plt.figure(figsize=(8, 18))\n",
    "plt.barh(sorted_feature_names, sorted_shap_values, color=bar_colors)\n",
    "plt.xlabel('Mean(|SHAP value|)', fontsize=12)\n",
    "plt.title('Global Feature Importance (SHAP)', fontsize=14)\n",
    "plt.grid(True, axis='x', linestyle='--', alpha=0.6)\n",
    "plt.tight_layout()\n",
    "plt.savefig('../varity_project/output/img/varity_shap_barplot.png', dpi=300, bbox_inches='tight')\n",
    "plt.close()\n",
    "print(\"SHAP bar chart saved\")"
   ]
  },
  {
   "cell_type": "code",
   "execution_count": 6,
   "id": "61c38d94",
   "metadata": {},
   "outputs": [
    {
     "data": {
      "image/png": "[encoded data removed]",
      "text/plain": [
       "<Figure size 640x480 with 1 Axes>"
      ]
     },
     "metadata": {},
     "output_type": "display_data"
    }
   ],
   "source": [
    "\n",
    "from sklearn.metrics import roc_curve, auc\n",
    "\n",
    "df = pd.read_csv(\"../varity_project/output/csv/benchmark_varity_test_test_set_prep_MYVARITY_R.csv\")\n",
    "y_true = df[\"label\"]\n",
    "y_score = df[\"MYVARITY_R\"]\n",
    "\n",
    "fpr, tpr, _ = roc_curve(y_true, y_score)\n",
    "roc_auc = auc(fpr, tpr)\n",
    "\n",
    "plt.plot(fpr, tpr, label=f\"AUC = {roc_auc:.3f}\")\n",
    "plt.plot([0, 1], [0, 1], linestyle=\"--\")\n",
    "plt.xlabel(\"False Positive Rate\")\n",
    "plt.ylabel(\"True Positive Rate\")\n",
    "plt.title(\"VARITY ROC on Test Set\")\n",
    "plt.legend()\n",
    "plt.show()\n"
   ]
  },
  {
   "cell_type": "code",
   "execution_count": 1,
   "id": "4c408328",
   "metadata": {},
   "outputs": [
    {
     "name": "stderr",
     "output_type": "stream",
     "text": [
      "/home/ning/miniconda3/envs/varity_env/lib/python3.7/site-packages/sklearn/utils/validation.py:37: DeprecationWarning: distutils Version classes are deprecated. Use packaging.version instead.\n",
      "  LARGE_SPARSE_SUPPORTED = LooseVersion(scipy_version) >= '0.14.0'\n"
     ]
    },
    {
     "name": "stdout",
     "output_type": "stream",
     "text": [
      "Accuracy:  1.000\n",
      "Precision: 1.000\n",
      "Recall:    1.000\n",
      "F1-score:  1.000\n"
     ]
    },
    {
     "data": {
      "image/png": "[encoded data removed]",
      "text/plain": [
       "<Figure size 500x400 with 1 Axes>"
      ]
     },
     "metadata": {},
     "output_type": "display_data"
    },
    {
     "data": {
      "image/png": "[encoded data removed]",
      "text/plain": [
       "<Figure size 600x600 with 1 Axes>"
      ]
     },
     "metadata": {},
     "output_type": "display_data"
    }
   ],
   "source": [
    "import pandas as pd\n",
    "import matplotlib.pyplot as plt\n",
    "from sklearn.metrics import (accuracy_score, precision_score, recall_score, f1_score,\n",
    "                             precision_recall_curve, confusion_matrix)\n",
    "\n",
    "\n",
    "# Load data\n",
    "df = pd.read_csv(\"../varity_project/output/csv/benchmark_varity_test_test_set_prep_MYVARITY_R.csv\")\n",
    "y_true  = df[\"label\"]\n",
    "y_score = df[\"MYVARITY_R\"]\n",
    "\n",
    "# Distribute prediction\n",
    "y_pred_label = (y_score >= 0.5).astype(int)\n",
    "\n",
    "acc  = accuracy_score(y_true, y_pred_label)\n",
    "prec = precision_score(y_true, y_pred_label)\n",
    "rec  = recall_score(y_true, y_pred_label)\n",
    "f1   = f1_score(y_true, y_pred_label)\n",
    "\n",
    "print(f\"Accuracy:  {acc:.3f}\")\n",
    "print(f\"Precision: {prec:.3f}\")\n",
    "print(f\"Recall:    {rec:.3f}\")\n",
    "print(f\"F1-score:  {f1:.3f}\")\n",
    "\n",
    "# Bar chart\n",
    "plt.figure(figsize=(5,4))\n",
    "metrics = [acc, prec, rec, f1]\n",
    "names   = [\"Accuracy\", \"Precision\", \"Recall\", \"F1-score\"]\n",
    "plt.bar(names, metrics, edgecolor='k', linewidth=1)\n",
    "plt.ylim(0,1)\n",
    "plt.title(\"VARITY Test Set Metrics\")\n",
    "plt.ylabel(\"Score\")\n",
    "plt.tight_layout()\n",
    "plt.savefig(\"../varity_project/output/img/varity_metrics_bar.png\", dpi=300)\n",
    "plt.show()\n",
    "\n",
    "# Precision–Recall Curve\n",
    "precision_vals, recall_vals, _ = precision_recall_curve(y_true, y_score)\n",
    "plt.figure(figsize=(6,6))\n",
    "plt.plot(recall_vals, precision_vals, lw=2)\n",
    "plt.xlabel(\"Recall\")\n",
    "plt.ylabel(\"Precision\")\n",
    "plt.title(\"VARITY Precision–Recall Curve\")\n",
    "plt.grid(linestyle='--', alpha=0.5)\n",
    "plt.tight_layout()\n",
    "plt.savefig(\"../varity_project/output/img/varity_pr_curve.png\", dpi=300)\n",
    "plt.show()\n",
    "\n"
   ]
  },
  {
   "cell_type": "code",
   "execution_count": 2,
   "id": "0c945cfe",
   "metadata": {},
   "outputs": [
    {
     "name": "stdout",
     "output_type": "stream",
     "text": [
      "Top-10 features by mean(|SHAP|):\n"
     ]
    },
    {
     "data": {
      "text/html": [
       "<div>\n",
       "<style scoped>\n",
       "    .dataframe tbody tr th:only-of-type {\n",
       "        vertical-align: middle;\n",
       "    }\n",
       "\n",
       "    .dataframe tbody tr th {\n",
       "        vertical-align: top;\n",
       "    }\n",
       "\n",
       "    .dataframe thead th {\n",
       "        text-align: right;\n",
       "    }\n",
       "</style>\n",
       "<table border=\"1\" class=\"dataframe\">\n",
       "  <thead>\n",
       "    <tr style=\"text-align: right;\">\n",
       "      <th></th>\n",
       "      <th>feature</th>\n",
       "      <th>mean_abs_shap</th>\n",
       "    </tr>\n",
       "  </thead>\n",
       "  <tbody>\n",
       "    <tr>\n",
       "      <th>0</th>\n",
       "      <td>phyloP100way_vertebrate</td>\n",
       "      <td>1.699291</td>\n",
       "    </tr>\n",
       "    <tr>\n",
       "      <th>1</th>\n",
       "      <td>MutationTaster_score</td>\n",
       "      <td>1.358072</td>\n",
       "    </tr>\n",
       "    <tr>\n",
       "      <th>2</th>\n",
       "      <td>ClinPred_score</td>\n",
       "      <td>0.851645</td>\n",
       "    </tr>\n",
       "    <tr>\n",
       "      <th>3</th>\n",
       "      <td>dbNSFP_POPMAX_AF</td>\n",
       "      <td>0.320219</td>\n",
       "    </tr>\n",
       "    <tr>\n",
       "      <th>4</th>\n",
       "      <td>GERP++_RS</td>\n",
       "      <td>0.302129</td>\n",
       "    </tr>\n",
       "    <tr>\n",
       "      <th>5</th>\n",
       "      <td>M-CAP_score</td>\n",
       "      <td>0.227285</td>\n",
       "    </tr>\n",
       "    <tr>\n",
       "      <th>6</th>\n",
       "      <td>gMVP_score</td>\n",
       "      <td>0.214242</td>\n",
       "    </tr>\n",
       "    <tr>\n",
       "      <th>7</th>\n",
       "      <td>AllofUs_ALL_AF</td>\n",
       "      <td>0.185422</td>\n",
       "    </tr>\n",
       "    <tr>\n",
       "      <th>8</th>\n",
       "      <td>MutScore_score</td>\n",
       "      <td>0.170841</td>\n",
       "    </tr>\n",
       "    <tr>\n",
       "      <th>9</th>\n",
       "      <td>phyloP470way_mammalian</td>\n",
       "      <td>0.148968</td>\n",
       "    </tr>\n",
       "  </tbody>\n",
       "</table>\n",
       "</div>"
      ],
      "text/plain": [
       "                   feature  mean_abs_shap\n",
       "0  phyloP100way_vertebrate       1.699291\n",
       "1     MutationTaster_score       1.358072\n",
       "2           ClinPred_score       0.851645\n",
       "3         dbNSFP_POPMAX_AF       0.320219\n",
       "4                GERP++_RS       0.302129\n",
       "5              M-CAP_score       0.227285\n",
       "6               gMVP_score       0.214242\n",
       "7           AllofUs_ALL_AF       0.185422\n",
       "8           MutScore_score       0.170841\n",
       "9   phyloP470way_mammalian       0.148968"
      ]
     },
     "metadata": {},
     "output_type": "display_data"
    }
   ],
   "source": [
    "import shap\n",
    "import xgboost as xgb\n",
    "from xgboost import XGBClassifier\n",
    "import numpy as np\n",
    "import pandas as pd\n",
    "\n",
    "# Paths\n",
    "model_path = '../varity_project/output/model/benchmark_dataset_final_MYVARITY_R.model'\n",
    "data_path = '../varity_project/data/test_set_prep.csv'\n",
    "\n",
    "# Load model\n",
    "model = XGBClassifier()\n",
    "model.load_model(model_path)\n",
    "\n",
    "# Load data\n",
    "df = pd.read_csv(data_path)\n",
    "\n",
    "# Features used for training (exact same names & order)\n",
    "feature_cols = [\n",
    "    'AllofUs_ALL_AF','AlphaMissense_score','BayesDel_addAF_score','BayesDel_noAF_score','CADD_raw',\n",
    "    'ClinPred_score','DANN_score','DEOGEN2_score','ESM1b_score','Eigen-PC-raw_coding','Eigen-raw_coding',\n",
    "    'GERP++_RS','GERP_91_mammals','M-CAP_score','MPC_score','MVP_score','MetaLR_score','MetaRNN_score',\n",
    "    'MetaSVM_score','MutFormer_score','MutScore_score','MutationAssessor_score','MutationTaster_score',\n",
    "    'PROVEAN_score','Polyphen2_HDIV_score','Polyphen2_HVAR_score','PrimateAI_score','REVEL_score',\n",
    "    'RegeneronME_ALL_AF','SIFT4G_score','SIFT_score','VEST4_score','bStatistic','dbNSFP_POPMAX_AF',\n",
    "    'fathmm-XF_coding_score','gMVP_score','gnomAD4.1_joint_AF','phastCons100way_vertebrate','phastCons17way_primate',\n",
    "    'phastCons470way_mammalian','phyloP100way_vertebrate','phyloP17way_primate','phyloP470way_mammalian'\n",
    "]\n",
    "\n",
    "# Sanity checks\n",
    "missing = [c for c in feature_cols if c not in df.columns]\n",
    "assert len(missing) == 0, f\"Missing columns in data: {missing}\"\n",
    "\n",
    "X = df[feature_cols].copy()\n",
    "# If any non-numeric slips in, convert; and handle NaNs if present\n",
    "for c in feature_cols:\n",
    "    if not np.issubdtype(X[c].dtype, np.number):\n",
    "        X[c] = pd.to_numeric(X[c], errors='coerce')\n",
    "if X.isna().any().any():\n",
    "    # simple fill\n",
    "    X = X.fillna(X.median(numeric_only=True))\n",
    "\n",
    "# Compute SHAP values\n",
    "explainer = shap.TreeExplainer(model)\n",
    "# check_additivity=False to avoid warnings and speed up a bit\n",
    "shap_values = explainer.shap_values(X, check_additivity=False)\n",
    "\n",
    "# Global importance = mean absolute SHAP per feature\n",
    "shap_mean = pd.Series(np.abs(shap_values).mean(axis=0), index=feature_cols)\n",
    "shap_mean_sorted = shap_mean.sort_values(ascending=False)\n",
    "\n",
    "# Export Top-10, Top-5, full list\n",
    "top10 = shap_mean_sorted.head(10).reset_index()\n",
    "top10.columns = ['feature', 'mean_abs_shap']\n",
    "top10.to_csv('../varity_project/output/csv/shap_top10_varity.csv', index=False)\n",
    "\n",
    "top5 = shap_mean_sorted.head(5).reset_index()\n",
    "top5.columns = ['feature', 'mean_abs_shap']\n",
    "top5.to_csv('../varity_project/output/csv/shap_top5_varity.csv', index=False)\n",
    "\n",
    "full_importance = shap_mean_sorted.reset_index()\n",
    "full_importance.columns = ['feature', 'mean_abs_shap']\n",
    "full_importance.to_csv('../varity_project/output/csv/shap_importance_full_varity.csv', index=False)\n",
    "\n",
    "print(\"Top-10 features by mean(|SHAP|):\")\n",
    "display(top10)\n"
   ]
  }
 ],
 "metadata": {
  "kernelspec": {
   "display_name": "Python 3",
   "language": "python",
   "name": "python3"
  },
  "language_info": {
   "codemirror_mode": {
    "name": "ipython",
    "version": 3
   },
   "file_extension": ".py",
   "mimetype": "text/x-python",
   "name": "python",
   "nbconvert_exporter": "python",
   "pygments_lexer": "ipython3",
   "version": "3.10.11"
  }
 },
 "nbformat": 4,
 "nbformat_minor": 5
}
